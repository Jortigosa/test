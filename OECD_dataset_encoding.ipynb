{
 "cells": [
  {
   "cell_type": "code",
   "execution_count": 1,
   "id": "de63c5d7",
   "metadata": {
    "ExecuteTime": {
     "end_time": "2024-05-16T07:16:10.526935Z",
     "start_time": "2024-05-16T07:16:07.126900Z"
    }
   },
   "outputs": [],
   "source": [
    "import os\n",
    "import pandas as pd\n",
    "import xlrd\n",
    "import time\n",
    "from bisect import bisect_right\n",
    "from bisect import bisect_left\n",
    "from deep_translator import GoogleTranslator\n",
    "import numpy as np\n",
    "from sklearn.feature_extraction.text import CountVectorizer\n",
    "import numpy as np\n",
    "import pandas as pd"
   ]
  },
  {
   "cell_type": "markdown",
   "id": "d5a86cb8",
   "metadata": {},
   "source": [
    "Loading the already cleaned OECD dataset"
   ]
  },
  {
   "cell_type": "code",
   "execution_count": 2,
   "id": "38e93a5b",
   "metadata": {
    "ExecuteTime": {
     "end_time": "2024-05-16T07:16:43.048643Z",
     "start_time": "2024-05-16T07:16:10.526935Z"
    }
   },
   "outputs": [],
   "source": [
    "df = pd.read_excel(\"OECD_All_v3.xlsx\", sheet_name = \"All\")"
   ]
  },
  {
   "cell_type": "markdown",
   "id": "a38e17e0",
   "metadata": {},
   "source": [
    "#### 2)Encoding \"Description\" and \"Project Title\":\n",
    "\n",
    "2.1) Substituting all blank values (NaN) in \"Description\" and \"Project Title\" with \"hello world\""
   ]
  },
  {
   "cell_type": "code",
   "execution_count": 3,
   "id": "ef5204ca",
   "metadata": {
    "ExecuteTime": {
     "end_time": "2024-05-16T07:16:43.086295Z",
     "start_time": "2024-05-16T07:16:43.050111Z"
    }
   },
   "outputs": [],
   "source": [
    "df[\"Description\"] = df[\"Description\"].fillna(\"hello_world\")\n",
    "df[\"Project Title\"] = df[\"Project Title\"].fillna(\"hello_world\")"
   ]
  },
  {
   "cell_type": "markdown",
   "id": "d4d137ed",
   "metadata": {},
   "source": [
    "2.2) Translating all non-english entries in \"Description\" and \"Project title\" to English."
   ]
  },
  {
   "cell_type": "code",
   "execution_count": 4,
   "id": "449be0a2",
   "metadata": {
    "ExecuteTime": {
     "end_time": "2024-05-16T07:16:43.114554Z",
     "start_time": "2024-05-16T07:16:43.086295Z"
    }
   },
   "outputs": [],
   "source": [
    "ptitle = df[\"Project Title\"].astype(str).tolist()\n",
    "desc = df[\"Description\"].astype(str).tolist()"
   ]
  },
  {
   "cell_type": "code",
   "execution_count": 5,
   "id": "ecf06706",
   "metadata": {
    "ExecuteTime": {
     "end_time": "2024-05-16T07:16:43.224031Z",
     "start_time": "2024-05-16T07:16:43.120852Z"
    }
   },
   "outputs": [],
   "source": [
    "title_desc = list(map(lambda x,y: x + \" /// \" + y, ptitle, desc))"
   ]
  },
  {
   "cell_type": "code",
   "execution_count": 15,
   "id": "2b7f9436",
   "metadata": {
    "ExecuteTime": {
     "end_time": "2024-05-16T12:21:31.165742Z",
     "start_time": "2024-05-16T12:21:31.053260Z"
    }
   },
   "outputs": [],
   "source": [
    "with open(\"title_desc_152768.txt\", \"r+\", encoding=\"utf-8\") as td_file:    \n",
    "    td_content = td_file.read()"
   ]
  },
  {
   "cell_type": "code",
   "execution_count": 16,
   "id": "d85527e0c47b8a8d",
   "metadata": {
    "ExecuteTime": {
     "end_time": "2024-05-16T12:21:32.300880Z",
     "start_time": "2024-05-16T12:21:32.168536Z"
    }
   },
   "outputs": [],
   "source": [
    "title_desc_en = td_content.split(\"_$%$&_\")"
   ]
  },
  {
   "cell_type": "code",
   "execution_count": 17,
   "id": "8a30173ae1c9b481",
   "metadata": {
    "ExecuteTime": {
     "end_time": "2024-05-16T12:21:33.287270Z",
     "start_time": "2024-05-16T12:21:33.277288Z"
    }
   },
   "outputs": [
    {
     "data": {
      "text/plain": [
       "152768"
      ]
     },
     "execution_count": 17,
     "metadata": {},
     "output_type": "execute_result"
    }
   ],
   "source": [
    "len(title_desc_en)"
   ]
  },
  {
   "cell_type": "code",
   "execution_count": 18,
   "id": "c320d2903cdabc3",
   "metadata": {
    "ExecuteTime": {
     "end_time": "2024-05-16T14:44:58.758033Z",
     "start_time": "2024-05-16T12:21:35.731576Z"
    }
   },
   "outputs": [
    {
     "name": "stdout",
     "output_type": "stream",
     "text": [
      "153000\n",
      "153500\n",
      "154000\n",
      "154500\n",
      "155000\n",
      "155500\n",
      "156000\n",
      "156500\n",
      "157000\n",
      "157500\n",
      "158000\n",
      "158500\n",
      "159000\n",
      "159500\n",
      "160000\n",
      "160500\n",
      "161000\n",
      "161500\n",
      "162000\n",
      "162500\n",
      "163000\n",
      "163500\n",
      "164000\n",
      "164500\n",
      "165000\n",
      "165500\n",
      "166000\n",
      "166500\n",
      "167000\n"
     ]
    }
   ],
   "source": [
    "for j in range(152768, len(title_desc)):\n",
    "    if j%500 == 0:\n",
    "        print(j)\n",
    "    td_en = GoogleTranslator('auto', 'english').translate(title_desc[j])\n",
    "    title_desc_en.append(td_en)"
   ]
  },
  {
   "cell_type": "code",
   "execution_count": 19,
   "id": "3ea2471b",
   "metadata": {
    "ExecuteTime": {
     "end_time": "2024-05-16T15:16:19.679947Z",
     "start_time": "2024-05-16T15:16:19.673526Z"
    }
   },
   "outputs": [
    {
     "data": {
      "text/plain": [
       "167363"
      ]
     },
     "execution_count": 19,
     "metadata": {},
     "output_type": "execute_result"
    }
   ],
   "source": [
    "len(title_desc_en)"
   ]
  },
  {
   "cell_type": "code",
   "execution_count": 21,
   "id": "bef3af4947c39c28",
   "metadata": {
    "ExecuteTime": {
     "end_time": "2024-05-16T15:16:39.027978Z",
     "start_time": "2024-05-16T15:16:39.023791Z"
    }
   },
   "outputs": [
    {
     "data": {
      "text/plain": [
       "167363"
      ]
     },
     "execution_count": 21,
     "metadata": {},
     "output_type": "execute_result"
    }
   ],
   "source": [
    "len(title_desc)"
   ]
  },
  {
   "cell_type": "code",
   "execution_count": 22,
   "id": "7a913f309e650293",
   "metadata": {
    "ExecuteTime": {
     "end_time": "2024-05-16T15:16:43.508929Z",
     "start_time": "2024-05-16T15:16:43.432973Z"
    }
   },
   "outputs": [],
   "source": [
    "text_to_file = \"_$%$&_\".join(title_desc_en)"
   ]
  },
  {
   "cell_type": "code",
   "execution_count": 23,
   "id": "60ba6b45",
   "metadata": {
    "ExecuteTime": {
     "end_time": "2024-05-16T15:17:05.095450Z",
     "start_time": "2024-05-16T15:17:04.809004Z"
    }
   },
   "outputs": [],
   "source": [
    "with open(\"title_desc_167363.txt\", \"a\", encoding=\"utf-8\") as f:\n",
    "    f.write(text_to_file)\n",
    "f.close()"
   ]
  },
  {
   "cell_type": "markdown",
   "id": "b51320af",
   "metadata": {},
   "source": [
    "2.3) Concatenating descriptions and titles lists"
   ]
  },
  {
   "cell_type": "code",
   "execution_count": null,
   "id": "23750484",
   "metadata": {},
   "outputs": [],
   "source": [
    "determiners = \"the, a, an, this, that, these, those, my, your, his, her, its, our, their, few, little, much, many, lot, most, some, any, enough, all, both, half, either, neither, each, every, other, another, such, what, rather, quite\"\n",
    "conjunctions = \"and, or, but, yet, because, since, as, when, before, after, once, until, whenever, while, where, wherever, if, unless, case, although, though, whereas\"\n",
    "prepositions = \"in, at, on, for, from, to, until, by, towards, across, through, between, among, of, with, by, about\""
   ]
  },
  {
   "cell_type": "code",
   "execution_count": null,
   "id": "858db0be",
   "metadata": {},
   "outputs": [],
   "source": [
    "det_list = determiners.split(\", \")\n",
    "conj_list = conjunctions.split(\", \")\n",
    "prep_list = prepositions.split(\", \")\n",
    "num_list = [str(i) for i in range(0,3000)]"
   ]
  },
  {
   "cell_type": "code",
   "execution_count": null,
   "id": "13f73a4f",
   "metadata": {},
   "outputs": [],
   "source": [
    "det_list_up = [i.capitalize() for i in det_list]\n",
    "conj_list_up = [i.capitalize() for i in conj_list]\n",
    "prep_list_up = [i.capitalize() for i in prep_list]"
   ]
  },
  {
   "cell_type": "code",
   "execution_count": null,
   "id": "4407ab66",
   "metadata": {},
   "outputs": [],
   "source": [
    "all_words = det_list + conj_list + prep_list + num_list + [\"hello_world\"]"
   ]
  },
  {
   "cell_type": "code",
   "execution_count": null,
   "id": "bb1a00df",
   "metadata": {},
   "outputs": [],
   "source": [
    "vectorizer = CountVectorizer(input = \"content\", lowercase = \"True\", stop_words = all_words, analyzer = \"word\")\n",
    "text_x = vectorizer.fit_transform(title_desc_en)\n"
   ]
  },
  {
   "cell_type": "code",
   "execution_count": null,
   "id": "940b2b57",
   "metadata": {},
   "outputs": [],
   "source": [
    "text_mtx = list(text_x.toarray())\n"
   ]
  },
  {
   "cell_type": "code",
   "execution_count": null,
   "id": "fc461c1a",
   "metadata": {},
   "outputs": [],
   "source": [
    "text_df = pd.DataFrame(text_mtx)\n"
   ]
  },
  {
   "cell_type": "code",
   "execution_count": null,
   "id": "0afa3bc9",
   "metadata": {},
   "outputs": [],
   "source": [
    "text_shp = text_df.shape()\n"
   ]
  },
  {
   "cell_type": "code",
   "execution_count": null,
   "id": "5ddcc8c4",
   "metadata": {},
   "outputs": [],
   "source": [
    "text_col = text_shp[1]\n",
    "text_colnames = [\"Text_\" + str(i) for i in range(0, text_col)]\n"
   ]
  },
  {
   "cell_type": "code",
   "execution_count": null,
   "id": "ed5aaf25",
   "metadata": {},
   "outputs": [],
   "source": [
    "text_df.columns = text_colnames\n"
   ]
  },
  {
   "cell_type": "code",
   "execution_count": 151,
   "id": "c53e3cf2",
   "metadata": {},
   "outputs": [],
   "source": [
    "encoded_df2 = encoded_df.drop([\"Description\", \"Project Title\"], axis = 1)"
   ]
  },
  {
   "cell_type": "code",
   "execution_count": null,
   "id": "d1bb6177",
   "metadata": {},
   "outputs": [],
   "source": [
    "encoded_df3 = pd.concat([encoded_df2, text_df], axis = 1)"
   ]
  },
  {
   "cell_type": "markdown",
   "id": "3c6f9348",
   "metadata": {},
   "source": [
    "#### 3) Encoding the rest of the fields and the Rio labels:\n",
    "\n",
    "3.1) Substitute blank values (NaN) with 0s and -1s (only for the funds related fields)."
   ]
  },
  {
   "cell_type": "code",
   "execution_count": 152,
   "id": "23ddf858",
   "metadata": {},
   "outputs": [],
   "source": [
    "funds_fields = ['Adaptation-related development finance - Commitment - 2021 USD thousand',\n",
    "       'Mitigation-related development finance - Commitment - 2021 USD thousand',\n",
    "       'Overlap - Commitment - 2021 USD thousand',\n",
    "       'Climate-related development finance - Commitment - 2021 USD thousand']"
   ]
  },
  {
   "cell_type": "code",
   "execution_count": 153,
   "id": "0a7297a6",
   "metadata": {},
   "outputs": [],
   "source": [
    "no_funds_fields = [field for field in df.columns if field not in funds_fields]"
   ]
  },
  {
   "cell_type": "code",
   "execution_count": 154,
   "id": "2d079cdf",
   "metadata": {},
   "outputs": [],
   "source": [
    "df[no_funds_fields] = df[no_funds_fields].fillna(0)"
   ]
  },
  {
   "cell_type": "code",
   "execution_count": 155,
   "id": "ad33da07",
   "metadata": {},
   "outputs": [],
   "source": [
    "df[funds_fields] = df[funds_fields].fillna(-1)"
   ]
  },
  {
   "cell_type": "markdown",
   "id": "16390d90",
   "metadata": {},
   "source": [
    "3.2) In the non-numeric fields, assign a number to each unique element."
   ]
  },
  {
   "cell_type": "code",
   "execution_count": 156,
   "id": "dcb52cf0",
   "metadata": {},
   "outputs": [],
   "source": [
    "non_numeric_fields = ['Provider Type', 'Provider', 'Provider (detailed)', 'Extending Agency', 'CRS Identification N°',\n",
    " 'Donor project N°', 'Recipient Region', 'Recipient Income Group (OECD Classification)',  'Concessionality', 'Channel of Delivery', 'Sector (detailed)',\n",
    " 'Sub-sector', 'Development Cooperation Modality', 'Financial Instrument', 'Gender']"
   ]
  },
  {
   "cell_type": "code",
   "execution_count": 157,
   "id": "e9f17776",
   "metadata": {},
   "outputs": [],
   "source": [
    "encoded_fields_dic = {}\n",
    "for field in non_numeric_fields:\n",
    "    f_list = df[field].tolist()\n",
    "    items = list(filter(lambda x:x!=0,f_list))\n",
    "    dic = {num:item for item, num in enumerate(set(items),1)}\n",
    "    dic[0] = 0\n",
    "    encoded_name = field + \"_encoded\"\n",
    "    encoded_fields_dic[encoded_name] = [dic[item] for item in f_list]"
   ]
  },
  {
   "cell_type": "code",
   "execution_count": 158,
   "id": "a32cdb6d",
   "metadata": {},
   "outputs": [],
   "source": [
    "nnumeric_encoded_df = pd.DataFrame.from_dict(encoded_fields_dic, orient = \"columns\")"
   ]
  },
  {
   "cell_type": "markdown",
   "id": "66f669ed",
   "metadata": {},
   "source": [
    "3.3) Encode the Rio marker labels."
   ]
  },
  {
   "cell_type": "code",
   "execution_count": 159,
   "id": "8c560a55",
   "metadata": {},
   "outputs": [],
   "source": [
    "label_fields = ['Climate objective (applies to Rio-marked data only) or climate component',\n",
    " 'Adaptation objective (applies to Rio-marked data only)', 'Mitigation objective (applies to Rio-marked data only)']"
   ]
  },
  {
   "cell_type": "code",
   "execution_count": 160,
   "id": "aa5b27e5",
   "metadata": {},
   "outputs": [],
   "source": [
    "encoded_labels_dic ={}\n",
    "labels_dic = {\"Principal\" : 4, \"Significant\" : 3,  \n",
    "                      \"Climate components\" : 2, \"Imputed multilateral contributions\" : 1, \"Not targeted/Not screened\" : 0}\n",
    "for field in label_fields:\n",
    "    f_list = df[field].tolist()\n",
    "    items = list(filter(lambda x:x!=0,f_list))\n",
    "    encoded_name = field + \"_encoded\"\n",
    "    encoded_labels_dic[encoded_name] = [labels_dic[item] for item in f_list]"
   ]
  },
  {
   "cell_type": "code",
   "execution_count": 161,
   "id": "59244f94",
   "metadata": {},
   "outputs": [],
   "source": [
    "labels_encoded_df = pd.DataFrame.from_dict(encoded_labels_dic, orient = \"columns\")"
   ]
  },
  {
   "cell_type": "markdown",
   "id": "f2732269",
   "metadata": {},
   "source": [
    "3.4) Join the enconded fields and labels data frames."
   ]
  },
  {
   "cell_type": "code",
   "execution_count": 164,
   "id": "5cd3fffa",
   "metadata": {},
   "outputs": [],
   "source": [
    "df1 = df.drop(columns = non_numeric_fields + label_fields)\n",
    "encoded_df = pd.concat([df1,nnumeric_encoded_df, labels_encoded_df], axis = 1)"
   ]
  },
  {
   "cell_type": "code",
   "execution_count": null,
   "id": "4fc149c1",
   "metadata": {},
   "outputs": [],
   "source": []
  }
 ],
 "metadata": {
  "kernelspec": {
   "display_name": "Python 3 (ipykernel)",
   "language": "python",
   "name": "python3"
  },
  "language_info": {
   "codemirror_mode": {
    "name": "ipython",
    "version": 3
   },
   "file_extension": ".py",
   "mimetype": "text/x-python",
   "name": "python",
   "nbconvert_exporter": "python",
   "pygments_lexer": "ipython3",
   "version": "3.9.13"
  }
 },
 "nbformat": 4,
 "nbformat_minor": 5
}
